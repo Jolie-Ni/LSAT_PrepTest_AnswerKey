{
 "cells": [
  {
   "cell_type": "code",
   "execution_count": 1,
   "metadata": {},
   "outputs": [],
   "source": [
    "with open('1-10.txt') as fp: \n",
    "    data1 = fp.read() \n",
    "    \n",
    "with open('11-20.txt') as fp: \n",
    "    data2 = fp.read() \n",
    "\n",
    "with open('21-30.txt') as fp: \n",
    "    data3 = fp.read()\n",
    "\n",
    "\n",
    "with open('31-40.txt') as fp: \n",
    "    data4 = fp.read()\n",
    "    \n",
    "with open('41-50.txt') as fp: \n",
    "    data5 = fp.read()\n",
    "\n",
    "with open('51-60.txt') as fp: \n",
    "    data6 = fp.read()\n",
    "\n",
    "data1 += \"\\n\"\n",
    "data1 += data2\n",
    "data1 += \"\\n\"\n",
    "data1 += data3\n",
    "data1 += \"\\n\"\n",
    "data1 += data4\n",
    "data1 += \"\\n\"\n",
    "data1 += data5\n",
    "data1 += \"\\n\"\n",
    "data1 += data6\n",
    "\n",
    "with open ('1-60.txt', 'w') as fp: \n",
    "    fp.write(data1) \n",
    "\n"
   ]
  },
  {
   "cell_type": "code",
   "execution_count": 2,
   "metadata": {},
   "outputs": [],
   "source": [
    "f = open(\"1-60.txt\", \"r\")\n",
    "names_list = [l for l in (line.strip() for line in f) if l]\n",
    "dic = {}\n",
    "pt_num = 0\n",
    "flag = True\n",
    "num_sec1 = 0\n",
    "num_sec2 = 0\n",
    "num_sec3 = 0\n",
    "num_sec4 = 0\n",
    "for x in names_list:\n",
    "    #reset everything and have a new start\n",
    "    \n",
    "    if(x == 'SECTION I'):\n",
    "        pt_num = pt_num + 1\n",
    "        dic[pt_num] = {}\n",
    "        dic[pt_num][1] = {}\n",
    "        num_sec1 = 0\n",
    "        num_sec2 = 0\n",
    "        num_sec3 = 0\n",
    "        num_sec4 = 0\n",
    "        sec1 = True\n",
    "        sec2 = False\n",
    "        sec3 = False\n",
    "        sec4 = False\n",
    "        \n",
    "    elif(x == 'SECTION II'):\n",
    "        dic[pt_num][2] = {}\n",
    "        sec1 = False\n",
    "        sec2 = True\n",
    "        sec3 = False\n",
    "        sec4 = False\n",
    "        \n",
    "    elif(x == 'SECTION III'):\n",
    "        dic[pt_num][3] = {}\n",
    "        sec1 = False\n",
    "        sec2 = False\n",
    "        sec3 = True\n",
    "        sec4 = False\n",
    "    \n",
    "    elif(x == 'SECTION IV'):\n",
    "        dic[pt_num][4] = {}\n",
    "        sec1 = False\n",
    "        sec2 = False\n",
    "        sec3 = False\n",
    "        sec4 = True\n",
    "        \n",
    "    #keep entering \n",
    "    else:\n",
    "        if(sec1):\n",
    "            num_sec1 = num_sec1+1\n",
    "            dic[pt_num][1][num_sec1] = x\n",
    "            \n",
    "        elif(sec2):\n",
    "            num_sec2 = num_sec2+1\n",
    "            dic[pt_num][2][num_sec2] = x\n",
    "            \n",
    "        elif(sec3):\n",
    "            num_sec3 = num_sec3+1\n",
    "            dic[pt_num][3][num_sec3] = x\n",
    "            \n",
    "        elif(sec4):\n",
    "            num_sec4 = num_sec4+1\n",
    "            dic[pt_num][4][num_sec4] = x\n",
    "        \n",
    "        \n",
    "\n",
    "        \n",
    "        \n",
    "    "
   ]
  },
  {
   "cell_type": "code",
   "execution_count": 3,
   "metadata": {},
   "outputs": [],
   "source": [
    "#print(dic[25][4][6])\n",
    "\n",
    "\n",
    "array = [[17,3,12],[19,2,21],[24,3,23],[24,3,26],[29,4,20]]"
   ]
  },
  {
   "cell_type": "code",
   "execution_count": 4,
   "metadata": {},
   "outputs": [
    {
     "name": "stdout",
     "output_type": "stream",
     "text": [
      "12.           D\n",
      "21.           A\n",
      "23.           B\n",
      "26.           B\n",
      "20.           A\n"
     ]
    }
   ],
   "source": [
    "def get_all_answers(array):\n",
    "    for i in range(len(array)):\n",
    "        a = array[i][0]\n",
    "        b = array[i][1]\n",
    "        c = array[i][2]\n",
    "        print(dic[a][b][c])\n",
    "get_all_answers(array)\n",
    "            "
   ]
  },
  {
   "cell_type": "code",
   "execution_count": 5,
   "metadata": {},
   "outputs": [
    {
     "name": "stdout",
     "output_type": "stream",
     "text": [
      "13.           E\n"
     ]
    }
   ],
   "source": [
    "print(dic[23][3][13])"
   ]
  },
  {
   "cell_type": "code",
   "execution_count": null,
   "metadata": {},
   "outputs": [],
   "source": []
  }
 ],
 "metadata": {
  "kernelspec": {
   "display_name": "Python 3",
   "language": "python",
   "name": "python3"
  },
  "language_info": {
   "codemirror_mode": {
    "name": "ipython",
    "version": 3
   },
   "file_extension": ".py",
   "mimetype": "text/x-python",
   "name": "python",
   "nbconvert_exporter": "python",
   "pygments_lexer": "ipython3",
   "version": "3.8.5"
  }
 },
 "nbformat": 4,
 "nbformat_minor": 4
}
